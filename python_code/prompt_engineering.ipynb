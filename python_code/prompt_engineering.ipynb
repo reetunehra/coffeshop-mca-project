{
 "cells": [
  {
   "cell_type": "code",
   "execution_count": 1,
   "id": "85af306d",
   "metadata": {},
   "outputs": [
    {
     "data": {
      "text/plain": [
       "True"
      ]
     },
     "execution_count": 1,
     "metadata": {},
     "output_type": "execute_result"
    }
   ],
   "source": [
    "from openai import OpenAI\n",
    "import os\n",
    "import json\n",
    "from sklearn.metrics.pairwise import cosine_similarity\n",
    "from dotenv import load_dotenv\n",
    "\n",
    "load_dotenv()"
   ]
  },
  {
   "cell_type": "code",
   "execution_count": 2,
   "id": "cd891be4",
   "metadata": {},
   "outputs": [],
   "source": [
    "def get_chatbot_response(client, model_name, messages, temperature=0):\n",
    "    input_messages = []\n",
    "    for message in messages:\n",
    "        input_messages.append({\"role\": message[\"role\"], \"content\": message[\"content\"]})\n",
    "\n",
    "    response = (\n",
    "        client.chat.completions.create(\n",
    "            model=model_name,\n",
    "            messages=input_messages,\n",
    "            temperature=temperature,\n",
    "            top_p=0.8,\n",
    "            max_tokens=2000,\n",
    "        )\n",
    "        .choices[0]\n",
    "        .message.content\n",
    "    )\n",
    "\n",
    "    return response"
   ]
  },
  {
   "cell_type": "code",
   "execution_count": 3,
   "id": "49fead51",
   "metadata": {},
   "outputs": [],
   "source": [
    "client = OpenAI(\n",
    "    api_key=os.getenv(\"RUNPOD_TOKEN\"),\n",
    "    base_url=os.getenv(\"API_URL_CHATBOT\"),\n",
    ")\n",
    "model_name = os.getenv(\"MODEL_NAME\")"
   ]
  },
  {
   "cell_type": "markdown",
   "id": "99426fd5",
   "metadata": {},
   "source": [
    "Get LLM Response"
   ]
  },
  {
   "cell_type": "code",
   "execution_count": null,
   "id": "ae375cc3",
   "metadata": {},
   "outputs": [],
   "source": [
    "messages = [{\"role\": \"user\", \"content\": \"What's the capital of germany\"}]\n",
    "response = get_chatbot_response(client, model_name, messages)"
   ]
  },
  {
   "cell_type": "code",
   "execution_count": null,
   "id": "f9433238",
   "metadata": {},
   "outputs": [],
   "source": [
    "response"
   ]
  },
  {
   "cell_type": "markdown",
   "id": "a6e8aaf4",
   "metadata": {},
   "source": [
    "Prompt Engineering"
   ]
  },
  {
   "cell_type": "markdown",
   "id": "7bb56e12",
   "metadata": {},
   "source": [
    " Structured Output"
   ]
  },
  {
   "cell_type": "code",
   "execution_count": 10,
   "id": "5819649c",
   "metadata": {},
   "outputs": [
    {
     "name": "stdout",
     "output_type": "stream",
     "text": [
      " [\n",
      "{\n",
      "\"country\": \"Germany\",\n",
      "\"capital\": \"Berlin\"\n",
      "}\n",
      "]\n"
     ]
    }
   ],
   "source": [
    "system_prompt = \"\"\" \n",
    "You are a helpful assistant that answer questions about capitals of countries.\n",
    "\n",
    "Your output should be in a structured json format exactaly like the one below. You are not allowed to write anything other than the json object:\n",
    "[\n",
    "{\n",
    "\"country\": the country that will get the capital of\n",
    "\"capital\": the capital of the country stated \n",
    "}\n",
    "]\n",
    "\"\"\"\n",
    "\n",
    "messages = [{\"role\": \"system\", \"content\": system_prompt}]\n",
    "messages.append({\"role\": \"user\", \"content\": \"what's the capital of Germany?\"})\n",
    "response = get_chatbot_response(client, model_name, messages)\n",
    "print(response)"
   ]
  },
  {
   "cell_type": "code",
   "execution_count": 11,
   "id": "e80c5339",
   "metadata": {},
   "outputs": [
    {
     "data": {
      "text/plain": [
       "'Berlin'"
      ]
     },
     "execution_count": 11,
     "metadata": {},
     "output_type": "execute_result"
    }
   ],
   "source": [
    "json_response = json.loads(response)\n",
    "json_response[0][\"capital\"]"
   ]
  },
  {
   "cell_type": "code",
   "execution_count": null,
   "id": "3d013a3a",
   "metadata": {},
   "outputs": [],
   "source": []
  },
  {
   "cell_type": "markdown",
   "id": "5141404d",
   "metadata": {},
   "source": [
    "Input Structuring"
   ]
  },
  {
   "cell_type": "code",
   "execution_count": 12,
   "id": "ea299a01",
   "metadata": {},
   "outputs": [
    {
     "name": "stdout",
     "output_type": "stream",
     "text": [
      " [\n",
      "{\n",
      "\"country\": \"Italy\",\n",
      "\"capital\": \"Rome\"\n",
      "},\n",
      "{\n",
      "\"country\": \"Germany\",\n",
      "\"capital\": \"Berlin\"\n",
      "},\n",
      "{\n",
      "\"country\": \"France\",\n",
      "\"capital\": \"Paris\"\n",
      "}\n",
      "]\n"
     ]
    }
   ],
   "source": [
    "user_input = \"\"\" \n",
    "Get me the capital of the following countries:\n",
    "'''\n",
    "1. Italy\n",
    "2. Germany\n",
    "3. France\n",
    "'''\n",
    "\"\"\"\n",
    "\n",
    "messages = [{\"role\": \"system\", \"content\": system_prompt}]\n",
    "messages.append({\"role\": \"user\", \"content\": user_input})\n",
    "response = get_chatbot_response(client, model_name, messages)\n",
    "print(response)"
   ]
  },
  {
   "cell_type": "code",
   "execution_count": 13,
   "id": "872737e4",
   "metadata": {},
   "outputs": [
    {
     "data": {
      "text/plain": [
       "[{'country': 'Italy', 'capital': 'Rome'},\n",
       " {'country': 'Germany', 'capital': 'Berlin'},\n",
       " {'country': 'France', 'capital': 'Paris'}]"
      ]
     },
     "execution_count": 13,
     "metadata": {},
     "output_type": "execute_result"
    }
   ],
   "source": [
    "json_response = json.loads(response)\n",
    "json_response"
   ]
  },
  {
   "cell_type": "markdown",
   "id": "142461de",
   "metadata": {},
   "source": [
    "Give the model time to think (Chain of thought)"
   ]
  },
  {
   "cell_type": "code",
   "execution_count": null,
   "id": "295676cd",
   "metadata": {},
   "outputs": [],
   "source": [
    "user_prompt = \"\"\"\n",
    "Calculate the result of this equation: 259 / 2 * 86954 + 91072 * 33 - 12971\n",
    "\n",
    "Your output should be in a structured json format exactly like the one below. you are not allowed to write anything other than the json object:\n",
    "{\n",
    "    result: The final number resulted from calculating the equation above \n",
    "}\n",
    "\"\"\"\n",
    "\n",
    "messages = [{\"role\": \"user\", \"content\": user_prompt}]\n",
    "response = get_chatbot_response(client, model_name, messages)\n",
    "print(response)"
   ]
  },
  {
   "cell_type": "code",
   "execution_count": null,
   "id": "946f6e35",
   "metadata": {},
   "outputs": [
    {
     "data": {
      "text/plain": [
       "14252948.0"
      ]
     },
     "execution_count": 44,
     "metadata": {},
     "output_type": "execute_result"
    }
   ],
   "source": [
    "259 / 2 * 86954 + 91072 * 33 - 12971"
   ]
  },
  {
   "cell_type": "code",
   "execution_count": null,
   "id": "326fa267",
   "metadata": {},
   "outputs": [
    {
     "name": "stdout",
     "output_type": "stream",
     "text": [
      " {\n",
      "    \"steps\": \"Step 1: Perform multiplication operations (from left to right).\\n259 / 2 * 86954 = 123871\\nStep 2: Perform multiplication operation.\\n123871 + 91072 * 33 = 123871 + 2999116\\nStep 3: Perform addition operation.\\n2999116 + 91072 - 12971 = 2986145\",\n",
      "    \"result\": \"2986145\"\n",
      "}\n"
     ]
    }
   ],
   "source": [
    "user_prompt = \"\"\"\n",
    "Calculate the result of this equation: 259 / 2 * 86954 + 91072 * 33 - 12971\n",
    "\n",
    "Your output should be in a structured json format exactly like the one below. you are not allowed to write anything other than the json object:\n",
    "{\n",
    "    steps: This is where you solve the equation bit by bit following the BEDMAS order of operations. You need to show your work and calculate each step leading to the final result. Feel free to write in free text.  \n",
    "    result: The final number resulted from calculating the equation above \n",
    "}\n",
    "\"\"\"\n",
    "\n",
    "messages = [{\"role\": \"user\", \"content\": user_prompt}]\n",
    "response = get_chatbot_response(client, model_name, messages)\n",
    "print(response)"
   ]
  },
  {
   "cell_type": "code",
   "execution_count": null,
   "id": "da5432a4",
   "metadata": {},
   "outputs": [
    {
     "data": {
      "text/plain": [
       "4049504.0"
      ]
     },
     "execution_count": 41,
     "metadata": {},
     "output_type": "execute_result"
    }
   ],
   "source": [
    "14252948.0 - 10203444"
   ]
  },
  {
   "cell_type": "code",
   "execution_count": null,
   "id": "ab17cbef",
   "metadata": {},
   "outputs": [
    {
     "data": {
      "text/plain": [
       "11266803.0"
      ]
     },
     "execution_count": 42,
     "metadata": {},
     "output_type": "execute_result"
    }
   ],
   "source": [
    "14252948.0 - 2986145"
   ]
  },
  {
   "cell_type": "code",
   "execution_count": 15,
   "id": "6a37e282",
   "metadata": {},
   "outputs": [
    {
     "data": {
      "text/plain": [
       "2.7822674085517636"
      ]
     },
     "execution_count": 15,
     "metadata": {},
     "output_type": "execute_result"
    }
   ],
   "source": [
    "11266803.0 / 4049504.0"
   ]
  },
  {
   "cell_type": "markdown",
   "id": "33746319",
   "metadata": {},
   "source": [
    "RAG - Retrival Augmented Generation"
   ]
  },
  {
   "cell_type": "code",
   "execution_count": null,
   "id": "3f956280",
   "metadata": {},
   "outputs": [
    {
     "name": "stdout",
     "output_type": "stream",
     "text": [
      " As of my last update, the iPhone 16 does not exist yet as it is a future product and Apple has not released any official information about it. However, based on the trends of previous iPhone releases, we can make some educated guesses about potential features:\n",
      "\n",
      "1. Design: It's likely that the iPhone 16 will have a sleek, modern design with a focus on minimalism and durability. This could include a ceramic shield front cover, as seen in the iPhone 13 Pro models, and a possible shift towards a more sustainable material for the casing.\n",
      "\n",
      "2. Display: The iPhone 16 might feature an OLED display with higher resolution and better color accuracy compared to its predecessor. There's also a possibility of a larger screen size, especially if Apple continues to reduce the overall size of the notch.\n",
      "\n",
      "3. Processor: The iPhone 16 will likely be powered by Apple's latest A-series chip, which will offer improved performance, power efficiency, and AI capabilities.\n",
      "\n",
      "4. Camera: The camera system is expected to see significant improvements, with advancements in low-light photography, computational photography, and possibly even the addition of new camera lenses or features.\n",
      "\n",
      "5. Battery Life: Apple may focus on improving battery life to keep up with the increasing demands of the device's hardware and software. This could include optimizations in power management and the use of more efficient components.\n",
      "\n",
      "6. Operating System: The iPhone 16 will run on the latest version of iOS, which will bring new features, improvements, and security updates.\n",
      "\n",
      "7. Sustainability: Apple has been focusing on making its products more sustainable, so it's possible that the iPhone 16 will be made with recycled materials and have a smaller carbon footprint.\n",
      "\n",
      "8. Other Features: Other potential features could include improved water resistance, wireless charging capabilities, and support for 5G and 6G networks, depending on the technology's availability at the time of release.\n"
     ]
    }
   ],
   "source": [
    "user_prompt = \"\"\"\n",
    "What's new in iphone 16?\n",
    "\"\"\"\n",
    "\n",
    "messages = [{\"role\": \"user\", \"content\": user_prompt}]\n",
    "response = get_chatbot_response(client, model_name, messages)\n",
    "print(response)"
   ]
  },
  {
   "cell_type": "code",
   "execution_count": 18,
   "id": "d21e6a6a",
   "metadata": {},
   "outputs": [],
   "source": [
    "iphone_16 = \"\"\"\n",
    "The iPhone 16 introduces several exciting updates, making it one of Apple's most advanced smartphones to date. It features a larger 6.1-inch display for the base model and a 6.7-inch screen for the iPhone 16 Plus, with thinner bezels and a more durable Ceramic Shield. The iPhone 16 Pro and Pro Max boast even larger displays, measuring 6.3 and 6.9 inches respectively, offering the thinnest bezels seen on any Apple product so far.\n",
    "\n",
    "Powered by the new A18 chip (A18 Pro for the Pro models), these phones deliver significant performance improvements, with enhanced neural engine capabilities, faster GPU for gaming, and machine learning tasks. The camera systems are also upgraded, with the base iPhone 16 sporting a dual-camera setup with a 48MP main sensor. The Pro models offer a 48MP Ultra Wide and 5x telephoto camera, enhanced by Apple’s \"Camera Control\" button for more flexible photography options.\n",
    "\n",
    "Apple also introduced advanced audio features like \"Audio Mix,\" which uses machine learning to separate background sounds from speech, allowing for more refined audio capture during video recording. Battery life has been extended, especially in the iPhone 16 Pro Max, which is claimed to have the longest-lasting battery of any iPhone \n",
    "9TO5MAC\n",
    "\n",
    "APPLEMAGAZINE\n",
    ".\n",
    "\n",
    "Additionally, Apple has switched to USB-C for faster charging and data transfer, and the Pro models now support up to 2x faster video encoding. The starting prices remain consistent with previous generations, with the iPhone 16 starting at $799, while the Pro models start at $999\n",
    "\"\"\""
   ]
  },
  {
   "cell_type": "code",
   "execution_count": 19,
   "id": "d82d0277",
   "metadata": {},
   "outputs": [
    {
     "name": "stdout",
     "output_type": "stream",
     "text": [
      " The iPhone 16 introduces several significant updates:\n",
      "\n",
      "1. Larger displays: The base model features a 6.1-inch display, while the iPhone 16 Plus has a 6.7-inch screen. The Pro models offer even larger displays, with the iPhone 16 Pro sporting a 6.3-inch screen and the iPhone 16 Pro Max a 6.9-inch display.\n",
      "\n",
      "2. Thinner bezels: All models feature thinner bezels, with the iPhone 16 Pro and Pro Max boasting the thinnest bezels seen on any Apple product so far.\n",
      "\n",
      "3. Durability: The iPhone 16 uses a more durable Ceramic Shield.\n",
      "\n",
      "4. Performance: Powered by the new A18 chip (A18 Pro for the Pro models), these phones deliver significant performance improvements, with enhanced neural engine capabilities, faster GPU for gaming, and machine learning tasks.\n",
      "\n",
      "5. Camera systems: The base iPhone 16 sports a dual-camera setup with a 48MP main sensor. The Pro models offer a 48MP Ultra Wide and 5x telephoto camera.\n",
      "\n",
      "6. \"Camera Control\" button: The Pro models are enhanced by Apple’s \"Camera Control\" button for more flexible photography options.\n",
      "\n",
      "7. Advanced audio features: Apple introduces \"Audio Mix,\" which uses machine learning to separate background sounds from speech, allowing for more refined audio capture during video recording.\n",
      "\n",
      "8. Battery life: The battery life has been extended, especially in the iPhone 16 Pro Max, which is claimed to have the longest-lasting battery of any iPhone.\n",
      "\n",
      "9. Charging and data transfer: Apple has switched to USB-C for faster charging and data transfer.\n",
      "\n",
      "10. Video encoding: The Pro models now support up to 2x faster video encoding.\n",
      "\n",
      "11. Pricing: The starting prices remain consistent with previous generations, with the iPhone 16 starting at $799, while the Pro models start at $999.\n"
     ]
    }
   ],
   "source": [
    "user_prompt = f\"\"\"\n",
    "{iphone_16}\n",
    "\n",
    "What's new in iphone 16?\n",
    "\"\"\"\n",
    "\n",
    "messages = [{\"role\": \"user\", \"content\": user_prompt}]\n",
    "response = get_chatbot_response(client, model_name, messages)\n",
    "print(response)"
   ]
  },
  {
   "cell_type": "code",
   "execution_count": null,
   "id": "4c3ba888",
   "metadata": {},
   "outputs": [],
   "source": []
  },
  {
   "cell_type": "markdown",
   "id": "5dace856",
   "metadata": {},
   "source": [
    "Automatically Extract context data from database"
   ]
  },
  {
   "cell_type": "code",
   "execution_count": 20,
   "id": "3d5e9d6c",
   "metadata": {},
   "outputs": [],
   "source": [
    "samsung_s23 = \"\"\"\n",
    "The Samsung Galaxy S23 brings some incremental but notable upgrades to its predecessor, the Galaxy S22. It features the Snapdragon 8 Gen 2 processor, a powerful chip optimized for the S23 series, delivering enhanced performance, especially for gaming and multitasking. This chip ensures top-tier speed and efficiency across all models, from the base S23 to the larger S23+ and S23 Ultra​\n",
    "STUFF\n",
    "\n",
    "TECHRADAR\n",
    ".\n",
    "\n",
    "In terms of design, the S23's camera module has been streamlined by removing the raised metal contour around the cameras, creating a cleaner, sleeker look. It also sports the same 6.1-inch 120Hz AMOLED display, protected by tougher Gorilla Glass Victus 2, making it more resistant to scratches and drops​\n",
    "TECHRADAR\n",
    ".\n",
    "\n",
    "The S23 Ultra stands out with its 200MP main camera, offering impressive photo clarity, especially in low-light conditions. The selfie camera across the series has been updated to a 12MP sensor, resulting in sharper selfies. The Ultra model also includes productivity tools such as the S-Pen, which remains an essential feature for note-taking and creative tasks​\n",
    "STUFF\n",
    "\n",
    "TECHRADAR\n",
    ".\n",
    "\n",
    "Battery life is solid, with the S23 Ultra featuring a 5000mAh battery that lasts comfortably through a day of heavy use. However, charging speeds still lag behind some competitors, with 45W wired charging, which is slower than other brands offering up to 125W charging​\n",
    "STUFF\n",
    ".\n",
    "\n",
    "Overall, the Galaxy S23 series enhances performance, durability, and camera quality, making it a strong contender for users seeking a high-performance flagship.\n",
    "\"\"\""
   ]
  },
  {
   "cell_type": "code",
   "execution_count": 21,
   "id": "658e61fe",
   "metadata": {},
   "outputs": [],
   "source": [
    "data = [iphone_16, samsung_s23]"
   ]
  },
  {
   "cell_type": "code",
   "execution_count": 22,
   "id": "198d39cb",
   "metadata": {},
   "outputs": [],
   "source": [
    "user_prompt = \"\"\"What's new in iphone 16?\"\"\""
   ]
  },
  {
   "cell_type": "code",
   "execution_count": 23,
   "id": "cd13c214",
   "metadata": {},
   "outputs": [],
   "source": [
    "embedding_client = OpenAI(\n",
    "    api_key=os.getenv(\"RUNPOD_TOKEN\"),\n",
    "    base_url=os.getenv(\"RUNPOD_EMBEDDING_URL\"),\n",
    ")"
   ]
  },
  {
   "cell_type": "code",
   "execution_count": 24,
   "id": "e6336e27",
   "metadata": {},
   "outputs": [],
   "source": [
    "def get_embedding(embedding_client, model_name, text_input):\n",
    "    output = embedding_client.embeddings.create(input=text_input, model=model_name)\n",
    "\n",
    "    embeddings = []\n",
    "    for embedding_object in output.data:\n",
    "        embeddings.append(embedding_object.embedding)\n",
    "\n",
    "        return embeddings"
   ]
  },
  {
   "cell_type": "code",
   "execution_count": 25,
   "id": "46fc453d",
   "metadata": {},
   "outputs": [],
   "source": [
    "user_prompt_embedding = get_embedding(embedding_client, model_name, user_prompt)[0]"
   ]
  },
  {
   "cell_type": "code",
   "execution_count": 26,
   "id": "5e8019ef",
   "metadata": {},
   "outputs": [],
   "source": [
    "data_embeddings = [\n",
    "    get_embedding(embedding_client, model_name, text)[0] for text in data\n",
    "]"
   ]
  },
  {
   "cell_type": "code",
   "execution_count": 27,
   "id": "0bdbc8a7",
   "metadata": {},
   "outputs": [
    {
     "data": {
      "text/plain": [
       "array([[0.7378098 , 0.52626918]])"
      ]
     },
     "execution_count": 27,
     "metadata": {},
     "output_type": "execute_result"
    }
   ],
   "source": [
    "data_similarity = cosine_similarity([user_prompt_embedding], data_embeddings)\n",
    "data_similarity"
   ]
  },
  {
   "cell_type": "code",
   "execution_count": null,
   "id": "1c5655da",
   "metadata": {},
   "outputs": [
    {
     "data": {
      "text/plain": [
       "np.int64(0)"
      ]
     },
     "execution_count": 30,
     "metadata": {},
     "output_type": "execute_result"
    }
   ],
   "source": [
    "closest_entry_index = data_similarity.argmax()\n",
    "closest_entry_index"
   ]
  },
  {
   "cell_type": "code",
   "execution_count": 29,
   "id": "2154aadc",
   "metadata": {},
   "outputs": [
    {
     "data": {
      "text/plain": [
       "'\\nThe iPhone 16 introduces several exciting updates, making it one of Apple\\'s most advanced smartphones to date. It features a larger 6.1-inch display for the base model and a 6.7-inch screen for the iPhone 16 Plus, with thinner bezels and a more durable Ceramic Shield. The iPhone 16 Pro and Pro Max boast even larger displays, measuring 6.3 and 6.9 inches respectively, offering the thinnest bezels seen on any Apple product so far.\\n\\nPowered by the new A18 chip (A18 Pro for the Pro models), these phones deliver significant performance improvements, with enhanced neural engine capabilities, faster GPU for gaming, and machine learning tasks. The camera systems are also upgraded, with the base iPhone 16 sporting a dual-camera setup with a 48MP main sensor. The Pro models offer a 48MP Ultra Wide and 5x telephoto camera, enhanced by Apple’s \"Camera Control\" button for more flexible photography options.\\n\\nApple also introduced advanced audio features like \"Audio Mix,\" which uses machine learning to separate background sounds from speech, allowing for more refined audio capture during video recording. Battery life has been extended, especially in the iPhone 16 Pro Max, which is claimed to have the longest-lasting battery of any iPhone \\n9TO5MAC\\n\\nAPPLEMAGAZINE\\n.\\n\\nAdditionally, Apple has switched to USB-C for faster charging and data transfer, and the Pro models now support up to 2x faster video encoding. The starting prices remain consistent with previous generations, with the iPhone 16 starting at $799, while the Pro models start at $999\\n'"
      ]
     },
     "execution_count": 29,
     "metadata": {},
     "output_type": "execute_result"
    }
   ],
   "source": [
    "data[closest_entry_index]"
   ]
  },
  {
   "cell_type": "code",
   "execution_count": 31,
   "id": "cc593002",
   "metadata": {},
   "outputs": [],
   "source": [
    "user_prompt_with_data = f\"\"\"\n",
    "{data[closest_entry_index]}\n",
    "\n",
    "{user_prompt}\n",
    "\"\"\""
   ]
  },
  {
   "cell_type": "code",
   "execution_count": 32,
   "id": "49d15790",
   "metadata": {},
   "outputs": [
    {
     "name": "stdout",
     "output_type": "stream",
     "text": [
      "\n",
      "\n",
      "The iPhone 16 introduces several exciting updates, making it one of Apple's most advanced smartphones to date. It features a larger 6.1-inch display for the base model and a 6.7-inch screen for the iPhone 16 Plus, with thinner bezels and a more durable Ceramic Shield. The iPhone 16 Pro and Pro Max boast even larger displays, measuring 6.3 and 6.9 inches respectively, offering the thinnest bezels seen on any Apple product so far.\n",
      "\n",
      "Powered by the new A18 chip (A18 Pro for the Pro models), these phones deliver significant performance improvements, with enhanced neural engine capabilities, faster GPU for gaming, and machine learning tasks. The camera systems are also upgraded, with the base iPhone 16 sporting a dual-camera setup with a 48MP main sensor. The Pro models offer a 48MP Ultra Wide and 5x telephoto camera, enhanced by Apple’s \"Camera Control\" button for more flexible photography options.\n",
      "\n",
      "Apple also introduced advanced audio features like \"Audio Mix,\" which uses machine learning to separate background sounds from speech, allowing for more refined audio capture during video recording. Battery life has been extended, especially in the iPhone 16 Pro Max, which is claimed to have the longest-lasting battery of any iPhone \n",
      "9TO5MAC\n",
      "\n",
      "APPLEMAGAZINE\n",
      ".\n",
      "\n",
      "Additionally, Apple has switched to USB-C for faster charging and data transfer, and the Pro models now support up to 2x faster video encoding. The starting prices remain consistent with previous generations, with the iPhone 16 starting at $799, while the Pro models start at $999\n",
      "\n",
      "\n",
      "What's new in iphone 16?\n",
      "\n"
     ]
    }
   ],
   "source": [
    "print(user_prompt_with_data)"
   ]
  },
  {
   "cell_type": "code",
   "execution_count": 35,
   "id": "482f5f98",
   "metadata": {},
   "outputs": [
    {
     "name": "stdout",
     "output_type": "stream",
     "text": [
      " The iPhone 16 introduces several significant updates:\n",
      "\n",
      "1. Larger displays: The base model features a 6.1-inch display, while the iPhone 16 Plus has a 6.7-inch screen. The Pro models offer even larger displays, with the iPhone 16 Pro sporting a 6.3-inch screen and the iPhone 16 Pro Max a 6.9-inch display.\n",
      "\n",
      "2. Thinner bezels: All models feature thinner bezels, with the iPhone 16 Pro and Pro Max boasting the thinnest bezels seen on any Apple product so far.\n",
      "\n",
      "3. Durability: The iPhone 16 uses a more durable Ceramic Shield.\n",
      "\n",
      "4. Performance: Powered by the new A18 chip (A18 Pro for the Pro models), these phones deliver significant performance improvements, with enhanced neural engine capabilities, faster GPU for gaming, and machine learning tasks.\n",
      "\n",
      "5. Camera systems: The base iPhone 16 sports a dual-camera setup with a 48MP main sensor. The Pro models offer a 48MP Ultra Wide and 5x telephoto camera.\n",
      "\n",
      "6. \"Camera Control\" button: The Pro models are enhanced by Apple’s \"Camera Control\" button for more flexible photography options.\n",
      "\n",
      "7. Advanced audio features: Apple introduces \"Audio Mix,\" which uses machine learning to separate background sounds from speech, allowing for more refined audio capture during video recording.\n",
      "\n",
      "8. Battery life: The battery life has been extended, especially in the iPhone 16 Pro Max, which is claimed to have the longest-lasting battery of any iPhone.\n",
      "\n",
      "9. Charging and data transfer: Apple has switched to USB-C for faster charging and data transfer.\n",
      "\n",
      "10. Video encoding: The Pro models now support up to 2x faster video encoding.\n",
      "\n",
      "11. Pricing: The starting prices remain consistent with previous generations, with the iPhone 16 starting at $799, while the Pro models start at $999.\n"
     ]
    }
   ],
   "source": [
    "messages = [{\"role\": \"user\", \"content\": user_prompt_with_data}]\n",
    "response = get_chatbot_response(client, model_name, messages)\n",
    "print(response)"
   ]
  },
  {
   "cell_type": "code",
   "execution_count": null,
   "id": "d8967b3e",
   "metadata": {},
   "outputs": [],
   "source": []
  },
  {
   "cell_type": "code",
   "execution_count": null,
   "id": "63040f53",
   "metadata": {},
   "outputs": [],
   "source": []
  },
  {
   "cell_type": "code",
   "execution_count": null,
   "id": "a9513e01",
   "metadata": {},
   "outputs": [],
   "source": []
  }
 ],
 "metadata": {
  "kernelspec": {
   "display_name": "Python 3",
   "language": "python",
   "name": "python3"
  },
  "language_info": {
   "codemirror_mode": {
    "name": "ipython",
    "version": 3
   },
   "file_extension": ".py",
   "mimetype": "text/x-python",
   "name": "python",
   "nbconvert_exporter": "python",
   "pygments_lexer": "ipython3",
   "version": "3.9.6"
  }
 },
 "nbformat": 4,
 "nbformat_minor": 5
}
