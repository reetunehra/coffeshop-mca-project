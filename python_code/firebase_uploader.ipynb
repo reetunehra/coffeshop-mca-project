{
 "cells": [
  {
   "cell_type": "code",
   "execution_count": 58,
   "id": "81a3f10f",
   "metadata": {},
   "outputs": [
    {
     "data": {
      "text/plain": [
       "True"
      ]
     },
     "execution_count": 58,
     "metadata": {},
     "output_type": "execute_result"
    }
   ],
   "source": [
    "import firebase_admin\n",
    "from firebase_admin import credentials, storage, get_app\n",
    "from firebase_admin import db\n",
    "import pandas as pd\n",
    "import os\n",
    "import dotenv\n",
    "\n",
    "dotenv.load_dotenv()"
   ]
  },
  {
   "cell_type": "markdown",
   "id": "6fc6cc52",
   "metadata": {},
   "source": [
    "Firebase Init"
   ]
  },
  {
   "cell_type": "code",
   "execution_count": 59,
   "id": "434a0dff",
   "metadata": {},
   "outputs": [],
   "source": [
    "service_accounts_info = {\n",
    "    \"type\": os.getenv(\"FIREBASE_TYPE\"),\n",
    "    \"project_id\": os.getenv(\"FIREBASE_PROJECT_ID\"),\n",
    "    \"private_key_id\": os.getenv(\"FIREBASE_PRIVATE_KEY_ID\"),\n",
    "    \"private_key\": os.getenv(\"FIREBASE_PRIVATE_KEY\"),\n",
    "    \"client_email\": os.getenv(\"FIREBASE_CLIENT_EMAIL\"),\n",
    "    \"client_id\": os.getenv(\"FIREBASE_CLIENT_ID\"),\n",
    "    \"auth_uri\": os.getenv(\"FIREBASE_AUTH_URI\"),\n",
    "    \"token_uri\": os.getenv(\"FIREBASE_TOKEN_URI\"),\n",
    "    \"auth_provider_x509_cert_url\": os.getenv(\"FIREBASE_AUTH_PROVIDER_X509_CERT_URL\"),\n",
    "    \"client_x509_url\": os.getenv(\"FIREBASE_CLIENT_X509_CERT_URL\"),\n",
    "    \"universe_domain\": os.getenv(\"FIREBASE_UNIVERSE_DOMAIN\"),\n",
    "}"
   ]
  },
  {
   "cell_type": "code",
   "execution_count": null,
   "id": "1772c6c6",
   "metadata": {},
   "outputs": [
    {
     "name": "stdout",
     "output_type": "stream",
     "text": [
      "App name: [DEFAULT]\n",
      "Database URL: https://coffeeshop-app-2a09b-default-rtdb.firebaseio.com/\n",
      "---\n"
     ]
    }
   ],
   "source": [
    "cred = credentials.Certificate(service_accounts_info)\n",
    "app = firebase_admin.initialize_app(\n",
    "    cred,\n",
    "    {\n",
    "        \"storageBucket\": \"coffeeshop-app-2a09b.firebasestorage.app\",\n",
    "        \"databaseURL\": \"https://coffeeshop-app-2a09b-default-rtdb.firebaseio.com/\",\n",
    "    },\n",
    ")"
   ]
  },
  {
   "cell_type": "code",
   "execution_count": 60,
   "id": "d6fd7814",
   "metadata": {},
   "outputs": [
    {
     "name": "stdout",
     "output_type": "stream",
     "text": [
      "<Bucket: coffeeshop-app-2a09b.firebasestorage.app>\n"
     ]
    }
   ],
   "source": [
    "bucket = storage.bucket()\n",
    "print(bucket)"
   ]
  },
  {
   "cell_type": "markdown",
   "id": "ffe82dab",
   "metadata": {},
   "source": [
    "Upload data"
   ]
  },
  {
   "cell_type": "code",
   "execution_count": 61,
   "id": "ffa072ba",
   "metadata": {},
   "outputs": [],
   "source": [
    "image_folder_path = \"./products/images/\""
   ]
  },
  {
   "cell_type": "code",
   "execution_count": 62,
   "id": "cc0ed5cb",
   "metadata": {},
   "outputs": [],
   "source": [
    "products_collection = db.reference(\"products\")"
   ]
  },
  {
   "cell_type": "code",
   "execution_count": 63,
   "id": "c6d1eaa6",
   "metadata": {},
   "outputs": [
    {
     "data": {
      "text/html": [
       "<div>\n",
       "<style scoped>\n",
       "    .dataframe tbody tr th:only-of-type {\n",
       "        vertical-align: middle;\n",
       "    }\n",
       "\n",
       "    .dataframe tbody tr th {\n",
       "        vertical-align: top;\n",
       "    }\n",
       "\n",
       "    .dataframe thead th {\n",
       "        text-align: right;\n",
       "    }\n",
       "</style>\n",
       "<table border=\"1\" class=\"dataframe\">\n",
       "  <thead>\n",
       "    <tr style=\"text-align: right;\">\n",
       "      <th></th>\n",
       "      <th>name</th>\n",
       "      <th>category</th>\n",
       "      <th>description</th>\n",
       "      <th>ingredients</th>\n",
       "      <th>price</th>\n",
       "      <th>rating</th>\n",
       "      <th>image_path</th>\n",
       "    </tr>\n",
       "  </thead>\n",
       "  <tbody>\n",
       "    <tr>\n",
       "      <th>0</th>\n",
       "      <td>Cappuccino</td>\n",
       "      <td>Coffee</td>\n",
       "      <td>A rich and creamy cappuccino made with freshly...</td>\n",
       "      <td>[Espresso, Steamed Milk, Milk Foam]</td>\n",
       "      <td>4.50</td>\n",
       "      <td>4.7</td>\n",
       "      <td>cappuccino.jpg</td>\n",
       "    </tr>\n",
       "    <tr>\n",
       "      <th>1</th>\n",
       "      <td>Jumbo Savory Scone</td>\n",
       "      <td>Bakery</td>\n",
       "      <td>Deliciously flaky and buttery, this jumbo savo...</td>\n",
       "      <td>[Flour, Butter, Cheese, Herbs, Baking Powder, ...</td>\n",
       "      <td>3.25</td>\n",
       "      <td>4.3</td>\n",
       "      <td>SavoryScone.webp</td>\n",
       "    </tr>\n",
       "  </tbody>\n",
       "</table>\n",
       "</div>"
      ],
      "text/plain": [
       "                 name category  \\\n",
       "0          Cappuccino   Coffee   \n",
       "1  Jumbo Savory Scone   Bakery   \n",
       "\n",
       "                                         description  \\\n",
       "0  A rich and creamy cappuccino made with freshly...   \n",
       "1  Deliciously flaky and buttery, this jumbo savo...   \n",
       "\n",
       "                                         ingredients  price  rating  \\\n",
       "0                [Espresso, Steamed Milk, Milk Foam]   4.50     4.7   \n",
       "1  [Flour, Butter, Cheese, Herbs, Baking Powder, ...   3.25     4.3   \n",
       "\n",
       "         image_path  \n",
       "0    cappuccino.jpg  \n",
       "1  SavoryScone.webp  "
      ]
     },
     "execution_count": 63,
     "metadata": {},
     "output_type": "execute_result"
    }
   ],
   "source": [
    "df = pd.read_json(\"products/products.jsonl\", lines=True)\n",
    "df.head(2)"
   ]
  },
  {
   "cell_type": "code",
   "execution_count": 64,
   "id": "308227e7",
   "metadata": {},
   "outputs": [],
   "source": [
    "def upload_image(bucket, image_path):\n",
    "    image_name = image_path.split(\"/\")[-1]\n",
    "    blob = bucket.blob(f\"product_image/{image_name}\")\n",
    "    # upload image\n",
    "    blob.upload_from_filename(image_path)\n",
    "    # Make the image pubicly accesible and get it's URL\n",
    "    blob.make_public()\n",
    "    return blob.public_url"
   ]
  },
  {
   "cell_type": "code",
   "execution_count": 65,
   "id": "46992f4e",
   "metadata": {},
   "outputs": [
    {
     "data": {
      "text/html": [
       "<div>\n",
       "<style scoped>\n",
       "    .dataframe tbody tr th:only-of-type {\n",
       "        vertical-align: middle;\n",
       "    }\n",
       "\n",
       "    .dataframe tbody tr th {\n",
       "        vertical-align: top;\n",
       "    }\n",
       "\n",
       "    .dataframe thead th {\n",
       "        text-align: right;\n",
       "    }\n",
       "</style>\n",
       "<table border=\"1\" class=\"dataframe\">\n",
       "  <thead>\n",
       "    <tr style=\"text-align: right;\">\n",
       "      <th></th>\n",
       "      <th>name</th>\n",
       "      <th>category</th>\n",
       "      <th>description</th>\n",
       "      <th>ingredients</th>\n",
       "      <th>price</th>\n",
       "      <th>rating</th>\n",
       "      <th>image_path</th>\n",
       "    </tr>\n",
       "  </thead>\n",
       "  <tbody>\n",
       "    <tr>\n",
       "      <th>0</th>\n",
       "      <td>Cappuccino</td>\n",
       "      <td>Coffee</td>\n",
       "      <td>A rich and creamy cappuccino made with freshly...</td>\n",
       "      <td>[Espresso, Steamed Milk, Milk Foam]</td>\n",
       "      <td>4.50</td>\n",
       "      <td>4.7</td>\n",
       "      <td>cappuccino.jpg</td>\n",
       "    </tr>\n",
       "    <tr>\n",
       "      <th>1</th>\n",
       "      <td>Jumbo Savory Scone</td>\n",
       "      <td>Bakery</td>\n",
       "      <td>Deliciously flaky and buttery, this jumbo savo...</td>\n",
       "      <td>[Flour, Butter, Cheese, Herbs, Baking Powder, ...</td>\n",
       "      <td>3.25</td>\n",
       "      <td>4.3</td>\n",
       "      <td>SavoryScone.webp</td>\n",
       "    </tr>\n",
       "  </tbody>\n",
       "</table>\n",
       "</div>"
      ],
      "text/plain": [
       "                 name category  \\\n",
       "0          Cappuccino   Coffee   \n",
       "1  Jumbo Savory Scone   Bakery   \n",
       "\n",
       "                                         description  \\\n",
       "0  A rich and creamy cappuccino made with freshly...   \n",
       "1  Deliciously flaky and buttery, this jumbo savo...   \n",
       "\n",
       "                                         ingredients  price  rating  \\\n",
       "0                [Espresso, Steamed Milk, Milk Foam]   4.50     4.7   \n",
       "1  [Flour, Butter, Cheese, Herbs, Baking Powder, ...   3.25     4.3   \n",
       "\n",
       "         image_path  \n",
       "0    cappuccino.jpg  \n",
       "1  SavoryScone.webp  "
      ]
     },
     "execution_count": 65,
     "metadata": {},
     "output_type": "execute_result"
    }
   ],
   "source": [
    "df.head(2)"
   ]
  },
  {
   "cell_type": "code",
   "execution_count": null,
   "id": "fb015e09",
   "metadata": {},
   "outputs": [
    {
     "name": "stdout",
     "output_type": "stream",
     "text": [
      "<Bucket: coffeeshop-app-2a09b.firebasestorage.app>\n",
      "<Bucket: coffeeshop-app-2a09b.firebasestorage.app>\n",
      "<Bucket: coffeeshop-app-2a09b.firebasestorage.app>\n",
      "<Bucket: coffeeshop-app-2a09b.firebasestorage.app>\n",
      "<Bucket: coffeeshop-app-2a09b.firebasestorage.app>\n",
      "<Bucket: coffeeshop-app-2a09b.firebasestorage.app>\n",
      "<Bucket: coffeeshop-app-2a09b.firebasestorage.app>\n",
      "<Bucket: coffeeshop-app-2a09b.firebasestorage.app>\n",
      "<Bucket: coffeeshop-app-2a09b.firebasestorage.app>\n",
      "<Bucket: coffeeshop-app-2a09b.firebasestorage.app>\n",
      "<Bucket: coffeeshop-app-2a09b.firebasestorage.app>\n",
      "<Bucket: coffeeshop-app-2a09b.firebasestorage.app>\n",
      "<Bucket: coffeeshop-app-2a09b.firebasestorage.app>\n",
      "<Bucket: coffeeshop-app-2a09b.firebasestorage.app>\n",
      "<Bucket: coffeeshop-app-2a09b.firebasestorage.app>\n",
      "<Bucket: coffeeshop-app-2a09b.firebasestorage.app>\n",
      "<Bucket: coffeeshop-app-2a09b.firebasestorage.app>\n",
      "<Bucket: coffeeshop-app-2a09b.firebasestorage.app>\n"
     ]
    }
   ],
   "source": [
    "for index, row in df.iterrows():\n",
    "    image_path = os.path.join(image_folder_path, row[\"image_path\"])\n",
    "    image_url = upload_image(bucket, image_path)\n",
    "    product_data = row.to_dict()\n",
    "    product_data.pop(\"image_path\")\n",
    "    product_data[\"image_url\"] = image_url\n",
    "\n",
    "    # Add to Firestore\n",
    "    products_collection.push().set(product_data)"
   ]
  },
  {
   "cell_type": "code",
   "execution_count": null,
   "id": "b1d4e938",
   "metadata": {},
   "outputs": [],
   "source": []
  },
  {
   "cell_type": "code",
   "execution_count": null,
   "id": "4770f1fa",
   "metadata": {},
   "outputs": [],
   "source": []
  },
  {
   "cell_type": "code",
   "execution_count": null,
   "id": "e79e85eb",
   "metadata": {},
   "outputs": [],
   "source": []
  }
 ],
 "metadata": {
  "kernelspec": {
   "display_name": "Python 3",
   "language": "python",
   "name": "python3"
  },
  "language_info": {
   "codemirror_mode": {
    "name": "ipython",
    "version": 3
   },
   "file_extension": ".py",
   "mimetype": "text/x-python",
   "name": "python",
   "nbconvert_exporter": "python",
   "pygments_lexer": "ipython3",
   "version": "3.9.6"
  }
 },
 "nbformat": 4,
 "nbformat_minor": 5
}
